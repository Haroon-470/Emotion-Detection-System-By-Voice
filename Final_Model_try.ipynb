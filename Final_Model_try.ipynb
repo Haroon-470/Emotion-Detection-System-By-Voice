{
 "cells": [
  {
   "cell_type": "code",
   "execution_count": 11,
   "id": "758789a7",
   "metadata": {},
   "outputs": [],
   "source": [
    "import os\n",
    "import numpy as np\n",
    "import librosa\n",
    "import glob\n",
    "from sklearn.preprocessing import LabelEncoder\n",
    "from tensorflow.keras.utils import to_categorical\n",
    "# Configuration\n",
    "SR = 41000  # Use 41 kHz sample rate\n",
    "MAX_LENGTH = 240  # Updated for 41 kHz, 3-second audio\n",
    "HOP_LENGTH = 512  # Default librosa value\n",
    "AUDIO_PATH= \"C:\\\\Users\\\\New Classic\\\\Desktop\\\\AI and ML\\\\Data Set\\\\Preprocessing_02\\\\3_sec\\\\Emotion_*\\\\*.wav\"\n",
    "def extract_features(file_path):\n",
    "    y, sr = librosa.load(file_path, sr=SR, res_type='kaiser_fast')\n",
    "    mfccs = librosa.feature.mfcc(y=y, sr=sr, n_mfcc=40, hop_length=HOP_LENGTH)\n",
    "    # Pad/truncate to MAX_LENGTH = 240\n",
    "    if mfccs.shape[1] > MAX_LENGTH:\n",
    "        mfccs = mfccs[:, :MAX_LENGTH]\n",
    "    else:\n",
    "        pad_width = MAX_LENGTH - mfccs.shape[1]\n",
    "        mfccs = np.pad(mfccs, pad_width=((0,0), (0, pad_width)), mode='constant')\n",
    "    return mfccs.T\n"
   ]
  },
  {
   "cell_type": "code",
   "execution_count": 12,
   "id": "4dbc69bc",
   "metadata": {},
   "outputs": [],
   "source": [
    "\n",
    "def load_dataset():\n",
    "    \"\"\"Load audio files with preserved temporal structure\"\"\"\n",
    "    features, labels = [], []\n",
    "    \n",
    "    for file in glob.glob(AUDIO_PATH):\n",
    "        # Extract emotion label from filename\n",
    "        file_name = os.path.basename(file)\n",
    "        emotion = file_name.split(\"-\")[2]  # Adjust this based on your filename structure\n",
    "        \n",
    "        # Extract features\n",
    "        mfcc_sequence = extract_features(file)\n",
    "        \n",
    "        features.append(mfcc_sequence)\n",
    "        labels.append(emotion)\n",
    "    \n",
    "    # Convert to numpy arrays\n",
    "    X = np.array(features)\n",
    "    y = np.array(labels)\n",
    "    return X, y\n"
   ]
  },
  {
   "cell_type": "code",
   "execution_count": null,
   "id": "bba36a22",
   "metadata": {},
   "outputs": [
    {
     "name": "stdout",
     "output_type": "stream",
     "text": [
      "Features shape: (749, 240, 40)\n",
      "Labels shape: (749,)\n"
     ]
    }
   ],
   "source": [
    "# Usage\n",
    "X, y = load_dataset()"
   ]
  },
  {
   "cell_type": "code",
   "execution_count": 15,
   "id": "f7d26c8a",
   "metadata": {},
   "outputs": [
    {
     "name": "stdout",
     "output_type": "stream",
     "text": [
      "Features shape: (749, 240, 40)\n",
      "Labels shape: (749,)\n"
     ]
    }
   ],
   "source": [
    "\n",
    "print(f\"Features shape: {X.shape}\")\n",
    "print(f\"Labels shape: {y.shape}\")"
   ]
  },
  {
   "cell_type": "code",
   "execution_count": 14,
   "id": "cb93c420",
   "metadata": {},
   "outputs": [],
   "source": [
    "# Encode labels\n",
    "le = LabelEncoder()\n",
    "y_encoded = le.fit_transform(y)\n",
    "y_categorical = to_categorical(y_encoded)"
   ]
  },
  {
   "cell_type": "code",
   "execution_count": 16,
   "id": "3215d3c9",
   "metadata": {},
   "outputs": [],
   "source": [
    "import numpy as np\n",
    "\n",
    "# Assuming:\n",
    "# X = features (shape: num_samples × 126 × 40)\n",
    "# y = labels (shape: num_samples)\n",
    "\n",
    "# Save features and labels of selected audios.\n",
    "np.save(\"Selected_Audios_features_41k.npy\", X)  # Preserves 3D structure\n",
    "np.save(\"Selected_Audios_labels_41k.npy\", y)"
   ]
  },
  {
   "cell_type": "code",
   "execution_count": 17,
   "id": "de179134",
   "metadata": {},
   "outputs": [
    {
     "data": {
      "text/plain": [
       "array(['01', '01', '01', '01', '01', '01', '01', '01', '01', '01', '01',\n",
       "       '01', '01', '01', '01', '01', '01', '01', '01', '01', '01', '01',\n",
       "       '01', '01', '01', '01', '01', '01', '01', '01', '01', '01', '01',\n",
       "       '01', '01', '01', '01', '01', '01', '01', '01', '01', '01', '01',\n",
       "       '01', '01', '01', '01', '01', '01', '01', '01', '01', '01', '01',\n",
       "       '01', '01', '01', '01', '01', '01', '01', '01', '01', '01', '01',\n",
       "       '01', '01', '01', '01', '01', '01', '01', '01', '01', '01', '01',\n",
       "       '01', '01', '01', '01', '01', '01', '01', '01', '01', '01', '01',\n",
       "       '01', '01', '01', '01', '01', '01', '01', '01', '01', '01', '01',\n",
       "       '01', '01', '01', '01', '01', '01', '01', '01', '01', '01', '01',\n",
       "       '01', '01', '01', '01', '01', '01', '01', '01', '01', '01', '01',\n",
       "       '01', '01', '01', '01', '01', '01', '01', '01', '01', '01', '01',\n",
       "       '01', '01', '01', '01', '01', '01', '01', '01', '01', '01', '01',\n",
       "       '01', '01', '01', '01', '01', '01', '01', '02', '02', '02', '02',\n",
       "       '02', '02', '02', '02', '02', '02', '02', '02', '02', '02', '02',\n",
       "       '02', '02', '02', '02', '02', '02', '02', '02', '02', '02', '02',\n",
       "       '02', '02', '02', '02', '02', '02', '02', '02', '02', '02', '02',\n",
       "       '02', '02', '02', '02', '02', '02', '02', '02', '02', '02', '02',\n",
       "       '02', '02', '02', '02', '02', '02', '02', '02', '02', '02', '02',\n",
       "       '02', '02', '02', '02', '02', '02', '02', '02', '02', '02', '02',\n",
       "       '02', '02', '02', '02', '02', '02', '02', '02', '02', '02', '02',\n",
       "       '02', '02', '02', '02', '02', '02', '02', '02', '02', '02', '02',\n",
       "       '02', '02', '02', '02', '02', '02', '02', '02', '02', '02', '02',\n",
       "       '02', '02', '02', '02', '02', '02', '02', '02', '02', '02', '02',\n",
       "       '02', '02', '02', '02', '02', '02', '02', '02', '02', '02', '02',\n",
       "       '02', '02', '02', '02', '02', '02', '02', '02', '02', '02', '02',\n",
       "       '02', '02', '02', '02', '02', '02', '02', '02', '02', '02', '02',\n",
       "       '02', '02', '02', '03', '03', '03', '03', '03', '03', '03', '03',\n",
       "       '03', '03', '03', '03', '03', '03', '03', '03', '03', '03', '03',\n",
       "       '03', '03', '03', '03', '03', '03', '03', '03', '03', '03', '03',\n",
       "       '03', '03', '03', '03', '03', '03', '03', '03', '03', '03', '03',\n",
       "       '03', '03', '03', '03', '03', '03', '03', '03', '03', '03', '03',\n",
       "       '03', '03', '03', '03', '03', '03', '03', '03', '03', '03', '03',\n",
       "       '03', '03', '03', '03', '03', '03', '03', '03', '03', '03', '03',\n",
       "       '03', '03', '03', '03', '03', '03', '03', '03', '03', '03', '03',\n",
       "       '03', '03', '03', '03', '03', '03', '03', '03', '03', '03', '03',\n",
       "       '03', '03', '03', '03', '03', '03', '03', '03', '03', '03', '03',\n",
       "       '03', '03', '03', '03', '03', '03', '03', '03', '03', '03', '03',\n",
       "       '03', '03', '03', '03', '03', '03', '03', '03', '03', '03', '03',\n",
       "       '03', '03', '03', '03', '03', '03', '03', '03', '03', '03', '03',\n",
       "       '03', '03', '03', '03', '03', '03', '03', '03', '03', '03', '04',\n",
       "       '04', '04', '04', '04', '04', '04', '04', '04', '04', '04', '04',\n",
       "       '04', '04', '04', '04', '04', '04', '04', '04', '04', '04', '04',\n",
       "       '04', '04', '04', '04', '04', '04', '04', '04', '04', '04', '04',\n",
       "       '04', '04', '04', '04', '04', '04', '04', '04', '04', '04', '04',\n",
       "       '04', '04', '04', '04', '04', '04', '04', '04', '04', '04', '04',\n",
       "       '04', '04', '04', '04', '04', '04', '04', '04', '04', '04', '04',\n",
       "       '04', '04', '04', '04', '04', '04', '04', '04', '04', '04', '04',\n",
       "       '04', '04', '04', '04', '04', '04', '04', '04', '04', '04', '04',\n",
       "       '04', '04', '04', '04', '04', '04', '04', '04', '04', '04', '04',\n",
       "       '04', '04', '04', '04', '04', '04', '04', '04', '04', '04', '04',\n",
       "       '04', '04', '04', '04', '04', '04', '04', '04', '04', '04', '04',\n",
       "       '04', '04', '04', '04', '04', '04', '04', '04', '04', '04', '04',\n",
       "       '04', '04', '04', '04', '04', '04', '04', '04', '04', '04', '04',\n",
       "       '04', '04', '04', '04', '04', '04', '05', '05', '05', '05', '05',\n",
       "       '05', '05', '05', '05', '05', '05', '05', '05', '05', '05', '05',\n",
       "       '05', '05', '05', '05', '05', '05', '05', '05', '05', '05', '05',\n",
       "       '05', '05', '05', '05', '05', '05', '05', '05', '05', '05', '05',\n",
       "       '05', '05', '05', '05', '05', '05', '05', '05', '05', '05', '05',\n",
       "       '05', '05', '05', '05', '05', '05', '05', '05', '05', '05', '05',\n",
       "       '05', '05', '05', '05', '05', '05', '05', '05', '05', '05', '05',\n",
       "       '05', '05', '05', '05', '05', '05', '05', '05', '05', '05', '05',\n",
       "       '05', '05', '05', '05', '05', '05', '05', '05', '05', '05', '05',\n",
       "       '05', '05', '05', '05', '05', '05', '05', '05', '05', '05', '05',\n",
       "       '05', '05', '05', '05', '05', '05', '05', '05', '05', '05', '05',\n",
       "       '05', '05', '05', '05', '05', '05', '05', '05', '05', '05', '05',\n",
       "       '05', '05', '05', '05', '05', '05', '05', '05', '05', '05', '05',\n",
       "       '05', '05', '05', '05', '05', '05', '05', '05', '05', '05'],\n",
       "      dtype='<U2')"
      ]
     },
     "execution_count": 17,
     "metadata": {},
     "output_type": "execute_result"
    }
   ],
   "source": [
    "X_loaded = np.load(\"X_features_at_41K_5_emotions.npy\")\n",
    "y_loaded = np.load(\"y_labels_at_41K_5_emotions.npy\")\n",
    "y_loaded"
   ]
  },
  {
   "cell_type": "code",
   "execution_count": 22,
   "id": "d6792ca1",
   "metadata": {},
   "outputs": [
    {
     "name": "stdout",
     "output_type": "stream",
     "text": [
      "Total number of labels: 749\n",
      "Unique labels: {'5', '4', '1', '3', '2'}\n"
     ]
    }
   ],
   "source": [
    "import numpy as np\n",
    "\n",
    "# Load the saved NumPy file\n",
    "labels_array = np.load(\"C:\\\\xampp\\\\htdocs\\\\Project Work\\\\Selected_Audios_labels_41k.npy\", allow_pickle=True)\n",
    "\n",
    "# Get the total count of labels\n",
    "num_labels = len(labels_array)\n",
    "print(f\"Total number of labels: {num_labels}\")\n",
    "\n",
    "# Extract and display unique labels\n",
    "unique_labels = set(label[1] for label in labels_array)  # Assuming (filename, label) format\n",
    "print(f\"Unique labels: {unique_labels}\")\n"
   ]
  },
  {
   "cell_type": "code",
   "execution_count": 23,
   "id": "d95f29d7",
   "metadata": {},
   "outputs": [
    {
     "name": "stdout",
     "output_type": "stream",
     "text": [
      "Train Shape: (599, 240, 40), (599,)\n",
      "Validation Shape: (150, 240, 40), (150,)\n"
     ]
    }
   ],
   "source": [
    "from sklearn.model_selection import train_test_split\n",
    "\n",
    "# Split data into training and validation sets\n",
    "X_train, X_val, y_train, y_val = train_test_split(X, y, test_size=0.2, random_state=42)\n",
    "\n",
    "print(f\"Train Shape: {X_train.shape}, {y_train.shape}\")\n",
    "print(f\"Validation Shape: {X_val.shape}, {y_val.shape}\")\n",
    "\n"
   ]
  },
  {
   "cell_type": "code",
   "execution_count": 24,
   "id": "1dda4c71",
   "metadata": {},
   "outputs": [
    {
     "name": "stdout",
     "output_type": "stream",
     "text": [
      "['01' '02' '03' '04' '05']\n"
     ]
    }
   ],
   "source": [
    "from sklearn.preprocessing import LabelEncoder\n",
    "\n",
    "# Suppose y_train contains your labels\n",
    "le = LabelEncoder()\n",
    "y_train_encoded = le.fit_transform(y_train)  # This fits the encoder\n",
    "\n",
    "# Now le.classes_ is available\n",
    "print(le.classes_)\n"
   ]
  },
  {
   "cell_type": "code",
   "execution_count": 25,
   "id": "e397e45d",
   "metadata": {},
   "outputs": [],
   "source": [
    "num_classes = len(le.classes_)  "
   ]
  },
  {
   "cell_type": "code",
   "execution_count": 26,
   "id": "4b07af1f",
   "metadata": {},
   "outputs": [],
   "source": [
    "# Split data into train/validation using ONE-HOT ENCODED LABELS\n",
    "from sklearn.model_selection import train_test_split\n",
    "\n",
    "X_train, X_val, y_train, y_val = train_test_split(\n",
    "    X,  # Input features (shape: num_samples, 240, 40)\n",
    "    y_categorical,  # One-hot encoded labels\n",
    "    test_size=0.2,\n",
    "    random_state=42\n",
    ")"
   ]
  },
  {
   "cell_type": "code",
   "execution_count": 27,
   "id": "501dfff7",
   "metadata": {},
   "outputs": [
    {
     "name": "stdout",
     "output_type": "stream",
     "text": [
      "Validation data saved successfully!\n"
     ]
    }
   ],
   "source": [
    "import numpy as np\n",
    "\n",
    "# Assuming X_val and y_val are already defined\n",
    "np.save(\"Selected_X_val.npy\", X_val)\n",
    "np.save(\"Selected_y_val.npy\", y_val)\n",
    "np.save(\"Selected_X_train.npy\", X_train)\n",
    "np.save(\"Selected_y_train.npy\", y_train)\n",
    "\n",
    "print(\"Validation data saved successfully!\")\n"
   ]
  },
  {
   "cell_type": "code",
   "execution_count": 30,
   "id": "c085a57e",
   "metadata": {},
   "outputs": [
    {
     "name": "stdout",
     "output_type": "stream",
     "text": [
      "Model successfully built with correct input-output configuration!\n"
     ]
    }
   ],
   "source": [
    "import numpy as np\n",
    "import tensorflow as tf\n",
    "from tensorflow.keras.models import Sequential\n",
    "from tensorflow.keras.layers import Conv1D, MaxPooling1D, LSTM, Bidirectional, Dense, Dropout, BatchNormalization, Reshape\n",
    "\n",
    "# Define CNN-LSTM Model\n",
    "Model = Sequential([\n",
    "    # CNN Layers (Feature Extraction)\n",
    "    Conv1D(filters=64, kernel_size=3, activation=\"relu\", input_shape=(240, 40)),  # Corrected input shape\n",
    "    MaxPooling1D(pool_size=2),\n",
    "    BatchNormalization(),\n",
    "\n",
    "    Conv1D(filters=128, kernel_size=3, activation=\"relu\"),\n",
    "    MaxPooling1D(pool_size=2),\n",
    "    BatchNormalization(),\n",
    "\n",
    "    # Reshape CNN output to match LSTM expected input shape\n",
    "    Reshape((-1, 128)),  # Ensure compatibility with LSTM input\n",
    "\n",
    "    # LSTM Layers (Temporal Modeling)\n",
    "    Bidirectional(LSTM(128, return_sequences=True, activation=\"tanh\")),\n",
    "    Dropout(0.3),\n",
    "\n",
    "    Bidirectional(LSTM(64, return_sequences=False, activation=\"tanh\")),\n",
    "    Dropout(0.3),\n",
    "\n",
    "    # Fully Connected Layers\n",
    "    Dense(32, activation=\"relu\"),\n",
    "    Dropout(0.2),\n",
    "\n",
    "    Dense(5, activation=\"softmax\")  # Output layer for 5 emotion classes\n",
    "])\n",
    "\n",
    "# Compile Model\n",
    "Model.compile(loss=\"categorical_crossentropy\", optimizer=\"adam\", metrics=[\"accuracy\"])\n",
    "\n",
    "print(\"Model successfully built with correct input-output configuration!\")\n"
   ]
  },
  {
   "cell_type": "code",
   "execution_count": 31,
   "id": "e6a1cbea",
   "metadata": {},
   "outputs": [
    {
     "data": {
      "text/html": [
       "<pre style=\"white-space:pre;overflow-x:auto;line-height:normal;font-family:Menlo,'DejaVu Sans Mono',consolas,'Courier New',monospace\"><span style=\"font-weight: bold\">Model: \"sequential_2\"</span>\n",
       "</pre>\n"
      ],
      "text/plain": [
       "\u001b[1mModel: \"sequential_2\"\u001b[0m\n"
      ]
     },
     "metadata": {},
     "output_type": "display_data"
    },
    {
     "data": {
      "text/html": [
       "<pre style=\"white-space:pre;overflow-x:auto;line-height:normal;font-family:Menlo,'DejaVu Sans Mono',consolas,'Courier New',monospace\">┏━━━━━━━━━━━━━━━━━━━━━━━━━━━━━━━━━┳━━━━━━━━━━━━━━━━━━━━━━━━┳━━━━━━━━━━━━━━━┓\n",
       "┃<span style=\"font-weight: bold\"> Layer (type)                    </span>┃<span style=\"font-weight: bold\"> Output Shape           </span>┃<span style=\"font-weight: bold\">       Param # </span>┃\n",
       "┡━━━━━━━━━━━━━━━━━━━━━━━━━━━━━━━━━╇━━━━━━━━━━━━━━━━━━━━━━━━╇━━━━━━━━━━━━━━━┩\n",
       "│ conv1d_4 (<span style=\"color: #0087ff; text-decoration-color: #0087ff\">Conv1D</span>)               │ (<span style=\"color: #00d7ff; text-decoration-color: #00d7ff\">None</span>, <span style=\"color: #00af00; text-decoration-color: #00af00\">238</span>, <span style=\"color: #00af00; text-decoration-color: #00af00\">64</span>)        │         <span style=\"color: #00af00; text-decoration-color: #00af00\">7,744</span> │\n",
       "├─────────────────────────────────┼────────────────────────┼───────────────┤\n",
       "│ max_pooling1d_4 (<span style=\"color: #0087ff; text-decoration-color: #0087ff\">MaxPooling1D</span>)  │ (<span style=\"color: #00d7ff; text-decoration-color: #00d7ff\">None</span>, <span style=\"color: #00af00; text-decoration-color: #00af00\">119</span>, <span style=\"color: #00af00; text-decoration-color: #00af00\">64</span>)        │             <span style=\"color: #00af00; text-decoration-color: #00af00\">0</span> │\n",
       "├─────────────────────────────────┼────────────────────────┼───────────────┤\n",
       "│ batch_normalization_4           │ (<span style=\"color: #00d7ff; text-decoration-color: #00d7ff\">None</span>, <span style=\"color: #00af00; text-decoration-color: #00af00\">119</span>, <span style=\"color: #00af00; text-decoration-color: #00af00\">64</span>)        │           <span style=\"color: #00af00; text-decoration-color: #00af00\">256</span> │\n",
       "│ (<span style=\"color: #0087ff; text-decoration-color: #0087ff\">BatchNormalization</span>)            │                        │               │\n",
       "├─────────────────────────────────┼────────────────────────┼───────────────┤\n",
       "│ conv1d_5 (<span style=\"color: #0087ff; text-decoration-color: #0087ff\">Conv1D</span>)               │ (<span style=\"color: #00d7ff; text-decoration-color: #00d7ff\">None</span>, <span style=\"color: #00af00; text-decoration-color: #00af00\">117</span>, <span style=\"color: #00af00; text-decoration-color: #00af00\">128</span>)       │        <span style=\"color: #00af00; text-decoration-color: #00af00\">24,704</span> │\n",
       "├─────────────────────────────────┼────────────────────────┼───────────────┤\n",
       "│ max_pooling1d_5 (<span style=\"color: #0087ff; text-decoration-color: #0087ff\">MaxPooling1D</span>)  │ (<span style=\"color: #00d7ff; text-decoration-color: #00d7ff\">None</span>, <span style=\"color: #00af00; text-decoration-color: #00af00\">58</span>, <span style=\"color: #00af00; text-decoration-color: #00af00\">128</span>)        │             <span style=\"color: #00af00; text-decoration-color: #00af00\">0</span> │\n",
       "├─────────────────────────────────┼────────────────────────┼───────────────┤\n",
       "│ batch_normalization_5           │ (<span style=\"color: #00d7ff; text-decoration-color: #00d7ff\">None</span>, <span style=\"color: #00af00; text-decoration-color: #00af00\">58</span>, <span style=\"color: #00af00; text-decoration-color: #00af00\">128</span>)        │           <span style=\"color: #00af00; text-decoration-color: #00af00\">512</span> │\n",
       "│ (<span style=\"color: #0087ff; text-decoration-color: #0087ff\">BatchNormalization</span>)            │                        │               │\n",
       "├─────────────────────────────────┼────────────────────────┼───────────────┤\n",
       "│ reshape_2 (<span style=\"color: #0087ff; text-decoration-color: #0087ff\">Reshape</span>)             │ (<span style=\"color: #00d7ff; text-decoration-color: #00d7ff\">None</span>, <span style=\"color: #00af00; text-decoration-color: #00af00\">58</span>, <span style=\"color: #00af00; text-decoration-color: #00af00\">128</span>)        │             <span style=\"color: #00af00; text-decoration-color: #00af00\">0</span> │\n",
       "├─────────────────────────────────┼────────────────────────┼───────────────┤\n",
       "│ bidirectional_4 (<span style=\"color: #0087ff; text-decoration-color: #0087ff\">Bidirectional</span>) │ (<span style=\"color: #00d7ff; text-decoration-color: #00d7ff\">None</span>, <span style=\"color: #00af00; text-decoration-color: #00af00\">58</span>, <span style=\"color: #00af00; text-decoration-color: #00af00\">256</span>)        │       <span style=\"color: #00af00; text-decoration-color: #00af00\">263,168</span> │\n",
       "├─────────────────────────────────┼────────────────────────┼───────────────┤\n",
       "│ dropout_6 (<span style=\"color: #0087ff; text-decoration-color: #0087ff\">Dropout</span>)             │ (<span style=\"color: #00d7ff; text-decoration-color: #00d7ff\">None</span>, <span style=\"color: #00af00; text-decoration-color: #00af00\">58</span>, <span style=\"color: #00af00; text-decoration-color: #00af00\">256</span>)        │             <span style=\"color: #00af00; text-decoration-color: #00af00\">0</span> │\n",
       "├─────────────────────────────────┼────────────────────────┼───────────────┤\n",
       "│ bidirectional_5 (<span style=\"color: #0087ff; text-decoration-color: #0087ff\">Bidirectional</span>) │ (<span style=\"color: #00d7ff; text-decoration-color: #00d7ff\">None</span>, <span style=\"color: #00af00; text-decoration-color: #00af00\">128</span>)            │       <span style=\"color: #00af00; text-decoration-color: #00af00\">164,352</span> │\n",
       "├─────────────────────────────────┼────────────────────────┼───────────────┤\n",
       "│ dropout_7 (<span style=\"color: #0087ff; text-decoration-color: #0087ff\">Dropout</span>)             │ (<span style=\"color: #00d7ff; text-decoration-color: #00d7ff\">None</span>, <span style=\"color: #00af00; text-decoration-color: #00af00\">128</span>)            │             <span style=\"color: #00af00; text-decoration-color: #00af00\">0</span> │\n",
       "├─────────────────────────────────┼────────────────────────┼───────────────┤\n",
       "│ dense_4 (<span style=\"color: #0087ff; text-decoration-color: #0087ff\">Dense</span>)                 │ (<span style=\"color: #00d7ff; text-decoration-color: #00d7ff\">None</span>, <span style=\"color: #00af00; text-decoration-color: #00af00\">32</span>)             │         <span style=\"color: #00af00; text-decoration-color: #00af00\">4,128</span> │\n",
       "├─────────────────────────────────┼────────────────────────┼───────────────┤\n",
       "│ dropout_8 (<span style=\"color: #0087ff; text-decoration-color: #0087ff\">Dropout</span>)             │ (<span style=\"color: #00d7ff; text-decoration-color: #00d7ff\">None</span>, <span style=\"color: #00af00; text-decoration-color: #00af00\">32</span>)             │             <span style=\"color: #00af00; text-decoration-color: #00af00\">0</span> │\n",
       "├─────────────────────────────────┼────────────────────────┼───────────────┤\n",
       "│ dense_5 (<span style=\"color: #0087ff; text-decoration-color: #0087ff\">Dense</span>)                 │ (<span style=\"color: #00d7ff; text-decoration-color: #00d7ff\">None</span>, <span style=\"color: #00af00; text-decoration-color: #00af00\">5</span>)              │           <span style=\"color: #00af00; text-decoration-color: #00af00\">165</span> │\n",
       "└─────────────────────────────────┴────────────────────────┴───────────────┘\n",
       "</pre>\n"
      ],
      "text/plain": [
       "┏━━━━━━━━━━━━━━━━━━━━━━━━━━━━━━━━━┳━━━━━━━━━━━━━━━━━━━━━━━━┳━━━━━━━━━━━━━━━┓\n",
       "┃\u001b[1m \u001b[0m\u001b[1mLayer (type)                   \u001b[0m\u001b[1m \u001b[0m┃\u001b[1m \u001b[0m\u001b[1mOutput Shape          \u001b[0m\u001b[1m \u001b[0m┃\u001b[1m \u001b[0m\u001b[1m      Param #\u001b[0m\u001b[1m \u001b[0m┃\n",
       "┡━━━━━━━━━━━━━━━━━━━━━━━━━━━━━━━━━╇━━━━━━━━━━━━━━━━━━━━━━━━╇━━━━━━━━━━━━━━━┩\n",
       "│ conv1d_4 (\u001b[38;5;33mConv1D\u001b[0m)               │ (\u001b[38;5;45mNone\u001b[0m, \u001b[38;5;34m238\u001b[0m, \u001b[38;5;34m64\u001b[0m)        │         \u001b[38;5;34m7,744\u001b[0m │\n",
       "├─────────────────────────────────┼────────────────────────┼───────────────┤\n",
       "│ max_pooling1d_4 (\u001b[38;5;33mMaxPooling1D\u001b[0m)  │ (\u001b[38;5;45mNone\u001b[0m, \u001b[38;5;34m119\u001b[0m, \u001b[38;5;34m64\u001b[0m)        │             \u001b[38;5;34m0\u001b[0m │\n",
       "├─────────────────────────────────┼────────────────────────┼───────────────┤\n",
       "│ batch_normalization_4           │ (\u001b[38;5;45mNone\u001b[0m, \u001b[38;5;34m119\u001b[0m, \u001b[38;5;34m64\u001b[0m)        │           \u001b[38;5;34m256\u001b[0m │\n",
       "│ (\u001b[38;5;33mBatchNormalization\u001b[0m)            │                        │               │\n",
       "├─────────────────────────────────┼────────────────────────┼───────────────┤\n",
       "│ conv1d_5 (\u001b[38;5;33mConv1D\u001b[0m)               │ (\u001b[38;5;45mNone\u001b[0m, \u001b[38;5;34m117\u001b[0m, \u001b[38;5;34m128\u001b[0m)       │        \u001b[38;5;34m24,704\u001b[0m │\n",
       "├─────────────────────────────────┼────────────────────────┼───────────────┤\n",
       "│ max_pooling1d_5 (\u001b[38;5;33mMaxPooling1D\u001b[0m)  │ (\u001b[38;5;45mNone\u001b[0m, \u001b[38;5;34m58\u001b[0m, \u001b[38;5;34m128\u001b[0m)        │             \u001b[38;5;34m0\u001b[0m │\n",
       "├─────────────────────────────────┼────────────────────────┼───────────────┤\n",
       "│ batch_normalization_5           │ (\u001b[38;5;45mNone\u001b[0m, \u001b[38;5;34m58\u001b[0m, \u001b[38;5;34m128\u001b[0m)        │           \u001b[38;5;34m512\u001b[0m │\n",
       "│ (\u001b[38;5;33mBatchNormalization\u001b[0m)            │                        │               │\n",
       "├─────────────────────────────────┼────────────────────────┼───────────────┤\n",
       "│ reshape_2 (\u001b[38;5;33mReshape\u001b[0m)             │ (\u001b[38;5;45mNone\u001b[0m, \u001b[38;5;34m58\u001b[0m, \u001b[38;5;34m128\u001b[0m)        │             \u001b[38;5;34m0\u001b[0m │\n",
       "├─────────────────────────────────┼────────────────────────┼───────────────┤\n",
       "│ bidirectional_4 (\u001b[38;5;33mBidirectional\u001b[0m) │ (\u001b[38;5;45mNone\u001b[0m, \u001b[38;5;34m58\u001b[0m, \u001b[38;5;34m256\u001b[0m)        │       \u001b[38;5;34m263,168\u001b[0m │\n",
       "├─────────────────────────────────┼────────────────────────┼───────────────┤\n",
       "│ dropout_6 (\u001b[38;5;33mDropout\u001b[0m)             │ (\u001b[38;5;45mNone\u001b[0m, \u001b[38;5;34m58\u001b[0m, \u001b[38;5;34m256\u001b[0m)        │             \u001b[38;5;34m0\u001b[0m │\n",
       "├─────────────────────────────────┼────────────────────────┼───────────────┤\n",
       "│ bidirectional_5 (\u001b[38;5;33mBidirectional\u001b[0m) │ (\u001b[38;5;45mNone\u001b[0m, \u001b[38;5;34m128\u001b[0m)            │       \u001b[38;5;34m164,352\u001b[0m │\n",
       "├─────────────────────────────────┼────────────────────────┼───────────────┤\n",
       "│ dropout_7 (\u001b[38;5;33mDropout\u001b[0m)             │ (\u001b[38;5;45mNone\u001b[0m, \u001b[38;5;34m128\u001b[0m)            │             \u001b[38;5;34m0\u001b[0m │\n",
       "├─────────────────────────────────┼────────────────────────┼───────────────┤\n",
       "│ dense_4 (\u001b[38;5;33mDense\u001b[0m)                 │ (\u001b[38;5;45mNone\u001b[0m, \u001b[38;5;34m32\u001b[0m)             │         \u001b[38;5;34m4,128\u001b[0m │\n",
       "├─────────────────────────────────┼────────────────────────┼───────────────┤\n",
       "│ dropout_8 (\u001b[38;5;33mDropout\u001b[0m)             │ (\u001b[38;5;45mNone\u001b[0m, \u001b[38;5;34m32\u001b[0m)             │             \u001b[38;5;34m0\u001b[0m │\n",
       "├─────────────────────────────────┼────────────────────────┼───────────────┤\n",
       "│ dense_5 (\u001b[38;5;33mDense\u001b[0m)                 │ (\u001b[38;5;45mNone\u001b[0m, \u001b[38;5;34m5\u001b[0m)              │           \u001b[38;5;34m165\u001b[0m │\n",
       "└─────────────────────────────────┴────────────────────────┴───────────────┘\n"
      ]
     },
     "metadata": {},
     "output_type": "display_data"
    },
    {
     "data": {
      "text/html": [
       "<pre style=\"white-space:pre;overflow-x:auto;line-height:normal;font-family:Menlo,'DejaVu Sans Mono',consolas,'Courier New',monospace\"><span style=\"font-weight: bold\"> Total params: </span><span style=\"color: #00af00; text-decoration-color: #00af00\">465,029</span> (1.77 MB)\n",
       "</pre>\n"
      ],
      "text/plain": [
       "\u001b[1m Total params: \u001b[0m\u001b[38;5;34m465,029\u001b[0m (1.77 MB)\n"
      ]
     },
     "metadata": {},
     "output_type": "display_data"
    },
    {
     "data": {
      "text/html": [
       "<pre style=\"white-space:pre;overflow-x:auto;line-height:normal;font-family:Menlo,'DejaVu Sans Mono',consolas,'Courier New',monospace\"><span style=\"font-weight: bold\"> Trainable params: </span><span style=\"color: #00af00; text-decoration-color: #00af00\">464,645</span> (1.77 MB)\n",
       "</pre>\n"
      ],
      "text/plain": [
       "\u001b[1m Trainable params: \u001b[0m\u001b[38;5;34m464,645\u001b[0m (1.77 MB)\n"
      ]
     },
     "metadata": {},
     "output_type": "display_data"
    },
    {
     "data": {
      "text/html": [
       "<pre style=\"white-space:pre;overflow-x:auto;line-height:normal;font-family:Menlo,'DejaVu Sans Mono',consolas,'Courier New',monospace\"><span style=\"font-weight: bold\"> Non-trainable params: </span><span style=\"color: #00af00; text-decoration-color: #00af00\">384</span> (1.50 KB)\n",
       "</pre>\n"
      ],
      "text/plain": [
       "\u001b[1m Non-trainable params: \u001b[0m\u001b[38;5;34m384\u001b[0m (1.50 KB)\n"
      ]
     },
     "metadata": {},
     "output_type": "display_data"
    }
   ],
   "source": [
    "Model.summary()"
   ]
  },
  {
   "cell_type": "code",
   "execution_count": 32,
   "id": "4b4174fe",
   "metadata": {},
   "outputs": [
    {
     "name": "stdout",
     "output_type": "stream",
     "text": [
      "Epoch 1/8\n",
      "\u001b[1m19/19\u001b[0m \u001b[32m━━━━━━━━━━━━━━━━━━━━\u001b[0m\u001b[37m\u001b[0m \u001b[1m13s\u001b[0m 238ms/step - accuracy: 0.4090 - loss: 1.4851 - val_accuracy: 0.2000 - val_loss: 1.8041\n",
      "Epoch 2/8\n",
      "\u001b[1m19/19\u001b[0m \u001b[32m━━━━━━━━━━━━━━━━━━━━\u001b[0m\u001b[37m\u001b[0m \u001b[1m3s\u001b[0m 167ms/step - accuracy: 0.6494 - loss: 0.9792 - val_accuracy: 0.2067 - val_loss: 2.1125\n",
      "Epoch 3/8\n",
      "\u001b[1m19/19\u001b[0m \u001b[32m━━━━━━━━━━━━━━━━━━━━\u001b[0m\u001b[37m\u001b[0m \u001b[1m3s\u001b[0m 167ms/step - accuracy: 0.7550 - loss: 0.7224 - val_accuracy: 0.2400 - val_loss: 2.1949\n",
      "Epoch 4/8\n",
      "\u001b[1m19/19\u001b[0m \u001b[32m━━━━━━━━━━━━━━━━━━━━\u001b[0m\u001b[37m\u001b[0m \u001b[1m3s\u001b[0m 169ms/step - accuracy: 0.7813 - loss: 0.6170 - val_accuracy: 0.4067 - val_loss: 1.6449\n",
      "Epoch 5/8\n",
      "\u001b[1m19/19\u001b[0m \u001b[32m━━━━━━━━━━━━━━━━━━━━\u001b[0m\u001b[37m\u001b[0m \u001b[1m3s\u001b[0m 173ms/step - accuracy: 0.8182 - loss: 0.5522 - val_accuracy: 0.2533 - val_loss: 2.0280\n",
      "Epoch 6/8\n",
      "\u001b[1m19/19\u001b[0m \u001b[32m━━━━━━━━━━━━━━━━━━━━\u001b[0m\u001b[37m\u001b[0m \u001b[1m5s\u001b[0m 177ms/step - accuracy: 0.8407 - loss: 0.4644 - val_accuracy: 0.5267 - val_loss: 1.3298\n",
      "Epoch 7/8\n",
      "\u001b[1m19/19\u001b[0m \u001b[32m━━━━━━━━━━━━━━━━━━━━\u001b[0m\u001b[37m\u001b[0m \u001b[1m5s\u001b[0m 180ms/step - accuracy: 0.8617 - loss: 0.3855 - val_accuracy: 0.5667 - val_loss: 1.1391\n",
      "Epoch 8/8\n",
      "\u001b[1m19/19\u001b[0m \u001b[32m━━━━━━━━━━━━━━━━━━━━\u001b[0m\u001b[37m\u001b[0m \u001b[1m4s\u001b[0m 184ms/step - accuracy: 0.8619 - loss: 0.3844 - val_accuracy: 0.6333 - val_loss: 1.0842\n"
     ]
    },
    {
     "data": {
      "text/plain": [
       "<keras.src.callbacks.history.History at 0x2cf39201a90>"
      ]
     },
     "execution_count": 32,
     "metadata": {},
     "output_type": "execute_result"
    }
   ],
   "source": [
    "\n",
    "# Train Model\n",
    "Model.fit(X_train, y_train, validation_data=(X_val, y_val), epochs=8, batch_size=32)\n"
   ]
  },
  {
   "cell_type": "code",
   "execution_count": 33,
   "id": "f7c925f0",
   "metadata": {},
   "outputs": [
    {
     "name": "stdout",
     "output_type": "stream",
     "text": [
      "Epoch 1/7\n",
      "\u001b[1m19/19\u001b[0m \u001b[32m━━━━━━━━━━━━━━━━━━━━\u001b[0m\u001b[37m\u001b[0m \u001b[1m0s\u001b[0m 163ms/step - accuracy: 0.9345 - loss: 0.2756"
     ]
    },
    {
     "name": "stderr",
     "output_type": "stream",
     "text": [
      "WARNING:absl:You are saving your model as an HDF5 file via `model.save()` or `keras.saving.save_model(model)`. This file format is considered legacy. We recommend using instead the native Keras format, e.g. `model.save('my_model.keras')` or `keras.saving.save_model(model, 'my_model.keras')`. \n"
     ]
    },
    {
     "name": "stdout",
     "output_type": "stream",
     "text": [
      "New Best Model Saved! Validation Accuracy: 0.67\n",
      "\u001b[1m19/19\u001b[0m \u001b[32m━━━━━━━━━━━━━━━━━━━━\u001b[0m\u001b[37m\u001b[0m \u001b[1m4s\u001b[0m 191ms/step - accuracy: 0.9329 - loss: 0.2785 - val_accuracy: 0.6667 - val_loss: 0.8581\n",
      "Epoch 2/7\n",
      "\u001b[1m19/19\u001b[0m \u001b[32m━━━━━━━━━━━━━━━━━━━━\u001b[0m\u001b[37m\u001b[0m \u001b[1m4s\u001b[0m 186ms/step - accuracy: 0.9032 - loss: 0.2863 - val_accuracy: 0.6467 - val_loss: 1.1648\n",
      "Epoch 3/7\n",
      "\u001b[1m19/19\u001b[0m \u001b[32m━━━━━━━━━━━━━━━━━━━━\u001b[0m\u001b[37m\u001b[0m \u001b[1m0s\u001b[0m 161ms/step - accuracy: 0.9361 - loss: 0.2081"
     ]
    },
    {
     "name": "stderr",
     "output_type": "stream",
     "text": [
      "WARNING:absl:You are saving your model as an HDF5 file via `model.save()` or `keras.saving.save_model(model)`. This file format is considered legacy. We recommend using instead the native Keras format, e.g. `model.save('my_model.keras')` or `keras.saving.save_model(model, 'my_model.keras')`. \n"
     ]
    },
    {
     "name": "stdout",
     "output_type": "stream",
     "text": [
      "New Best Model Saved! Validation Accuracy: 0.73\n",
      "\u001b[1m19/19\u001b[0m \u001b[32m━━━━━━━━━━━━━━━━━━━━\u001b[0m\u001b[37m\u001b[0m \u001b[1m3s\u001b[0m 178ms/step - accuracy: 0.9363 - loss: 0.2074 - val_accuracy: 0.7267 - val_loss: 1.0217\n",
      "Epoch 4/7\n",
      "\u001b[1m19/19\u001b[0m \u001b[32m━━━━━━━━━━━━━━━━━━━━\u001b[0m\u001b[37m\u001b[0m \u001b[1m0s\u001b[0m 166ms/step - accuracy: 0.9419 - loss: 0.1741"
     ]
    },
    {
     "name": "stderr",
     "output_type": "stream",
     "text": [
      "WARNING:absl:You are saving your model as an HDF5 file via `model.save()` or `keras.saving.save_model(model)`. This file format is considered legacy. We recommend using instead the native Keras format, e.g. `model.save('my_model.keras')` or `keras.saving.save_model(model, 'my_model.keras')`. \n"
     ]
    },
    {
     "name": "stdout",
     "output_type": "stream",
     "text": [
      "New Best Model Saved! Validation Accuracy: 0.76\n",
      "\u001b[1m19/19\u001b[0m \u001b[32m━━━━━━━━━━━━━━━━━━━━\u001b[0m\u001b[37m\u001b[0m \u001b[1m4s\u001b[0m 185ms/step - accuracy: 0.9428 - loss: 0.1721 - val_accuracy: 0.7600 - val_loss: 0.7738\n",
      "Epoch 5/7\n",
      "\u001b[1m19/19\u001b[0m \u001b[32m━━━━━━━━━━━━━━━━━━━━\u001b[0m\u001b[37m\u001b[0m \u001b[1m0s\u001b[0m 152ms/step - accuracy: 0.9815 - loss: 0.1101"
     ]
    },
    {
     "name": "stderr",
     "output_type": "stream",
     "text": [
      "WARNING:absl:You are saving your model as an HDF5 file via `model.save()` or `keras.saving.save_model(model)`. This file format is considered legacy. We recommend using instead the native Keras format, e.g. `model.save('my_model.keras')` or `keras.saving.save_model(model, 'my_model.keras')`. \n"
     ]
    },
    {
     "name": "stdout",
     "output_type": "stream",
     "text": [
      "New Best Model Saved! Validation Accuracy: 0.81\n",
      "\u001b[1m19/19\u001b[0m \u001b[32m━━━━━━━━━━━━━━━━━━━━\u001b[0m\u001b[37m\u001b[0m \u001b[1m3s\u001b[0m 173ms/step - accuracy: 0.9807 - loss: 0.1119 - val_accuracy: 0.8067 - val_loss: 0.7432\n",
      "Epoch 6/7\n",
      "\u001b[1m19/19\u001b[0m \u001b[32m━━━━━━━━━━━━━━━━━━━━\u001b[0m\u001b[37m\u001b[0m \u001b[1m5s\u001b[0m 153ms/step - accuracy: 0.9731 - loss: 0.1316 - val_accuracy: 0.7800 - val_loss: 0.7312\n",
      "Epoch 7/7\n",
      "\u001b[1m19/19\u001b[0m \u001b[32m━━━━━━━━━━━━━━━━━━━━\u001b[0m\u001b[37m\u001b[0m \u001b[1m4s\u001b[0m 201ms/step - accuracy: 0.9757 - loss: 0.0901 - val_accuracy: 0.8067 - val_loss: 0.6485\n",
      "Training complete. Best validation accuracy achieved: 0.81\n"
     ]
    }
   ],
   "source": [
    "import tensorflow as tf\n",
    "\n",
    "# Set initial best validation accuracy (uptill now: 64%)\n",
    "best_val_accuracy = 0.63 \n",
    "\n",
    "# Custom Callback to Track Best Validation Accuracy\n",
    "class BestValAccuracyCallback(tf.keras.callbacks.Callback):\n",
    "    def on_epoch_end(self, epoch, logs=None):\n",
    "        global best_val_accuracy\n",
    "        val_acc = logs.get(\"val_accuracy\")\n",
    "        if val_acc and val_acc > best_val_accuracy:\n",
    "            best_val_accuracy = val_acc\n",
    "            self.model.save(\"best_model.h5\")  # Save model with best val_accuracy\n",
    "            print(f\"New Best Model Saved! Validation Accuracy: {best_val_accuracy:.2f}\")\n",
    "\n",
    "# Train Model with the Callback\n",
    "Model.fit(\n",
    "    X_train, y_train, \n",
    "    validation_data=(X_val, y_val), \n",
    "    epochs=7, batch_size=32, \n",
    "    callbacks=[BestValAccuracyCallback()]\n",
    ")\n",
    "\n",
    "print(f\"Training complete. Best validation accuracy achieved: {best_val_accuracy:.2f}\")\n"
   ]
  },
  {
   "cell_type": "code",
   "execution_count": 34,
   "id": "ac11a324",
   "metadata": {},
   "outputs": [
    {
     "name": "stdout",
     "output_type": "stream",
     "text": [
      "Training complete. Best validation accuracy achieved: 0.81\n"
     ]
    }
   ],
   "source": [
    "\n",
    "print(f\"Training complete. Best validation accuracy achieved: {best_val_accuracy:.2f}\")"
   ]
  },
  {
   "cell_type": "code",
   "execution_count": 35,
   "id": "ab74bb56",
   "metadata": {},
   "outputs": [
    {
     "name": "stderr",
     "output_type": "stream",
     "text": [
      "WARNING:absl:Compiled the loaded model, but the compiled metrics have yet to be built. `model.compile_metrics` will be empty until you train or evaluate the model.\n"
     ]
    },
    {
     "name": "stdout",
     "output_type": "stream",
     "text": [
      "\u001b[1m5/5\u001b[0m \u001b[32m━━━━━━━━━━━━━━━━━━━━\u001b[0m\u001b[37m\u001b[0m \u001b[1m2s\u001b[0m 217ms/step\n",
      "F1-Score (Weighted): 0.81\n",
      "\n",
      "Classification Report:\n",
      "              precision    recall  f1-score   support\n",
      "\n",
      "           0       0.85      0.91      0.88        32\n",
      "           1       0.66      0.87      0.75        31\n",
      "           2       0.96      0.75      0.84        36\n",
      "           3       0.87      0.62      0.72        21\n",
      "           4       0.78      0.83      0.81        30\n",
      "\n",
      "    accuracy                           0.81       150\n",
      "   macro avg       0.82      0.80      0.80       150\n",
      "weighted avg       0.83      0.81      0.81       150\n",
      "\n"
     ]
    }
   ],
   "source": [
    "import numpy as np\n",
    "import tensorflow as tf\n",
    "from sklearn.metrics import classification_report, f1_score\n",
    "\n",
    "# Load test dataset (assuming MFCCs are preprocessed)\n",
    "test_X = np.load(\"Selected_X_val.npy\")\n",
    "test_y = np.load(\"Selected_y_val.npy\")\n",
    "\n",
    "# Load the trained model\n",
    "test_model = tf.keras.models.load_model(\"best_model.h5\")\n",
    "\n",
    "# Get predictions\n",
    "y_pred = test_model.predict(test_X)\n",
    "y_pred_classes = np.argmax(y_pred, axis=1)  # Convert probabilities to class labels\n",
    "y_true_classes = np.argmax(test_y, axis=1)  # Convert one-hot labels to class labels\n",
    "\n",
    "# Calculate F1-Score\n",
    "f1 = f1_score(y_true_classes, y_pred_classes, average=\"weighted\")\n",
    "print(f\"F1-Score (Weighted): {f1:.2f}\")\n",
    "\n",
    "# Detailed Classification Report\n",
    "print(\"\\nClassification Report:\")\n",
    "print(classification_report(y_true_classes, y_pred_classes))\n"
   ]
  },
  {
   "cell_type": "code",
   "execution_count": 57,
   "id": "7cfabe6c",
   "metadata": {},
   "outputs": [
    {
     "name": "stdout",
     "output_type": "stream",
     "text": [
      "\u001b[1m1/1\u001b[0m \u001b[32m━━━━━━━━━━━━━━━━━━━━\u001b[0m\u001b[37m\u001b[0m \u001b[1m0s\u001b[0m 44ms/step\n",
      "Predicted emotion: 02\n"
     ]
    }
   ],
   "source": [
    "def predict_emotion(file_path):\n",
    "    # Preprocess the new audio (same steps as training)\n",
    "    mfcc_sequence = extract_features(file_path)  # Shape: (126, 40)\n",
    "    \n",
    "    # Add batch dimension: (1, 126, 40) for model input\n",
    "    mfcc_batch = np.expand_dims(mfcc_sequence, axis=0)\n",
    "    \n",
    "    # Predict probabilities\n",
    "    predictions = Model.predict(mfcc_batch)\n",
    "    \n",
    "    # Get the emotion label\n",
    "    predicted_class_idx = np.argmax(predictions[0])\n",
    "    emotion_label = le.classes_[predicted_class_idx]\n",
    "    \n",
    "    return emotion_label\n",
    "file_path=\"C:\\\\Users\\\\New Classic\\\\Desktop\\\\AI and ML\\\\Data Set\\\\Preprocessing_02\\\\3_sec\\\\Emotion_04\\\\Emotion-Neutral-04-105.wav\"\n",
    "\n",
    "file_path=\"C:\\\\Users\\\\New Classic\\\\Desktop\\\\AI and ML\\\\Data Set\\\\Preprocessing_02\\\\3_sec\\\\Emotion_02\\\\Emotion-Sad-02-105.wav\"\n",
    "#file_path=\"C:\\\\Users\\\\New Classic\\\\Desktop\\\\AI and ML\\\\Data Set\\\\Preprocessing_02\\\\3_sec\\\\Emotion_03\\\\Emotion-Happy-03-105.wav\"\n",
    "#file_path=\"C:\\\\Users\\\\New Classic\\\\Desktop\\\\AI and ML\\\\Data Set\\\\Preprocessing_02\\\\3_sec\\\\Emotion_01\\\\Emotion-Angry-01-126.wav\"\n",
    "#file_path=\"C:\\\\Users\\\\New Classic\\\\Desktop\\\\AI and ML\\\\Data Set\\\\Preprocessing_02\\\\3_sec\\\\Emotion_05\\\\Emotion-Fear-05-115.wav\"\n",
    "predicted_emotion = predict_emotion(file_path)\n",
    "print(f\"Predicted emotion: {predicted_emotion}\")"
   ]
  },
  {
   "cell_type": "code",
   "execution_count": 50,
   "id": "acbf46be",
   "metadata": {},
   "outputs": [
    {
     "name": "stderr",
     "output_type": "stream",
     "text": [
      "WARNING:absl:Compiled the loaded model, but the compiled metrics have yet to be built. `model.compile_metrics` will be empty until you train or evaluate the model.\n"
     ]
    },
    {
     "name": "stdout",
     "output_type": "stream",
     "text": [
      "\u001b[1m5/5\u001b[0m \u001b[32m━━━━━━━━━━━━━━━━━━━━\u001b[0m\u001b[37m\u001b[0m \u001b[1m2s\u001b[0m 237ms/step\n"
     ]
    },
    {
     "data": {
      "image/png": "[encoded data removed]",
      "text/plain": [
       "<Figure size 600x600 with 2 Axes>"
      ]
     },
     "metadata": {},
     "output_type": "display_data"
    }
   ],
   "source": [
    "import numpy as np\n",
    "import tensorflow as tf\n",
    "import seaborn as sns\n",
    "import matplotlib.pyplot as plt\n",
    "from sklearn.metrics import confusion_matrix\n",
    "\n",
    "\n",
    "# Load test dataset (assuming MFCCs are preprocessed)\n",
    "test_X = np.load(\"Selected_X_val.npy\")\n",
    "test_y = np.load(\"Selected_y_val.npy\")\n",
    "\n",
    "# Load the trained model\n",
    "test_model = tf.keras.models.load_model(\"best_model.h5\")\n",
    "\n",
    "# Get predictions\n",
    "y_pred = test_model.predict(test_X)\n",
    "y_pred_classes = np.argmax(y_pred, axis=1)  # Convert probabilities to class labels\n",
    "y_true_classes = np.argmax(test_y, axis=1)  # Convert one-hot encoded labels to class labels\n",
    "\n",
    "# Compute confusion matrix\n",
    "cm = confusion_matrix(y_true_classes, y_pred_classes)\n",
    "\n",
    "# Plot confusion matrix\n",
    "plt.figure(figsize=(6, 6))\n",
    "sns.heatmap(cm, annot=True, fmt=\"d\", cmap=\"Blues\", xticklabels=[\"Angry\", \"Sad\", \"Happy\", \"Neutral\", \"Fear\"], \n",
    "            yticklabels=[\"Angry\", \"Sad\", \"Happy\", \"Neutral\", \"Fear\"])\n",
    "plt.xlabel(\"Predicted Label\")\n",
    "plt.ylabel(\"True Label\")\n",
    "plt.title(\"Confusion Matrix for Speech Emotion Recognition\")\n",
    "plt.show()\n"
   ]
  }
 ],
 "metadata": {
  "kernelspec": {
   "display_name": "Python 3",
   "language": "python",
   "name": "python3"
  },
  "language_info": {
   "codemirror_mode": {
    "name": "ipython",
    "version": 3
   },
   "file_extension": ".py",
   "mimetype": "text/x-python",
   "name": "python",
   "nbconvert_exporter": "python",
   "pygments_lexer": "ipython3",
   "version": "3.12.5"
  }
 },
 "nbformat": 4,
 "nbformat_minor": 5
}
